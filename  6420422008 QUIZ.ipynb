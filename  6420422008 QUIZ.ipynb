{
 "cells": [
  {
   "cell_type": "code",
   "execution_count": null,
   "id": "dd92b880",
   "metadata": {},
   "outputs": [],
   "source": [
    "!pip install pymongo\n",
    "import pymongo\n"
   ]
  },
  {
   "cell_type": "code",
   "execution_count": null,
   "id": "a1385f04",
   "metadata": {},
   "outputs": [],
   "source": [
    "!pip install pysimplegui\n",
    "import PySimpleGUI as sg\n",
    "!pip install bqplot\n",
    "!pip install ipywidgets\n",
    "from ipywidgets.widgets import Label, FloatProgress, FloatSlider , Button\n",
    "from ipywidgets.widgets import Layout,HBox , VBox\n",
    "from IPython.display import display\n",
    "import numpy as np\n",
    "import bqplot as bq\n",
    "import time\n",
    "import threading\n",
    "from bson import ObjectId\n",
    "import tkinter as tk"
   ]
  },
  {
   "cell_type": "code",
   "execution_count": null,
   "id": "1c30cbec",
   "metadata": {},
   "outputs": [],
   "source": [
    "from pymongo import MongoClient\n",
    "client = MongoClient(\"mongodb://localhost:27017/\") #mongodb://localhost:27017"
   ]
  },
  {
   "cell_type": "code",
   "execution_count": null,
   "id": "d91d3d67",
   "metadata": {},
   "outputs": [],
   "source": [
    "db = client[\"bookstore\"]"
   ]
  },
  {
   "cell_type": "code",
   "execution_count": null,
   "id": "22360552",
   "metadata": {},
   "outputs": [],
   "source": [
    "collection = db[\"Book\"]"
   ]
  },
  {
   "cell_type": "code",
   "execution_count": null,
   "id": "8bae44e4",
   "metadata": {},
   "outputs": [],
   "source": [
    "book_list = [\n",
    "    {\"Name\" : \"Mongodb Basic\",\"Author\" : \"ปิยะ นากสงค์\",\"Cost\" :  229,\"Page\" : 240},\n",
    "    {\"Name\" : \"The Art Of Statistic\" , \"Author\" : \"David Spiegelhalter\" , \"Cost\" : 395 , \"Page\" : 432},\n",
    "    {\"Name\" : \"Principles id Statistics\" , \"Author\" : \"ปริดาภรณ์ กาญจนสำราญวงศ์\" , \"Cost\" : 415 , \"Page\" :  568},\n",
    "    {\"Name\" : \"Storytelling with Data\" , \"Author\" : \"Cole Nussbaumer Knaflic\" ,\"Cost\" : 450 ,\"Page\" : 280}\n",
    "]"
   ]
  },
  {
   "cell_type": "code",
   "execution_count": null,
   "id": "7a60e3e5",
   "metadata": {},
   "outputs": [],
   "source": [
    "x = collection.insert_many(book_list)"
   ]
  },
  {
   "cell_type": "code",
   "execution_count": null,
   "id": "0e59f1e1",
   "metadata": {},
   "outputs": [],
   "source": []
  },
  {
   "cell_type": "code",
   "execution_count": null,
   "id": "204d8d6b",
   "metadata": {},
   "outputs": [],
   "source": [
    "def insert_data(data):\n",
    "     document = collection.insert_one(data)\n",
    "    \n",
    "def update_or_creater(document_id, data):\n",
    "    document = collection.update_one({},{\"$set\":{Value_Cost:Value_Page}}, upsert=True)\n",
    "\n",
    "def get_single_data(data):\n",
    "    data = collection.find_one(book_list)\n",
    "\n",
    "def get_mutiple_data(data):\n",
    "    data = collection.find(book_list)\n",
    "\n",
    "def update_existing(data):\n",
    "    \n",
    "    newvalue = { \"$set\": { \"Title\": \"C# Web Programming\" } }\n",
    "\n",
    "    document = collection.update_one(data,{\"$set\":book_list})\n",
    "def remove_data(data):\n",
    "    document = collection.delete_one(data)\n",
    "\n"
   ]
  },
  {
   "cell_type": "markdown",
   "id": "64a37392",
   "metadata": {},
   "source": [
    "book_list = {\"Name\" : \"ccc\" , \"Author\" : \"dcd\" ,\"Cost\" : 450 ,\"Page\" : 280}\n",
    "remove_data()"
   ]
  },
  {
   "cell_type": "code",
   "execution_count": null,
   "id": "8d00a576",
   "metadata": {},
   "outputs": [],
   "source": [
    "layout =  [[sg.Text('Select Your potion')],\n",
    "          [sg.Button('ADD'), sg.Button('FIND'), sg.Button('UPDATE'),sg.Button('DELETE'), sg.Button('EXIT')]]\n",
    "layoutadd = [[sg.Text('Add Book information')],\n",
    "            [sg.Text('Enter Name : '), sg.InputText(key = 'Value_Name')],\n",
    "            [sg.Text('Enter Author : '), sg.InputText(key = 'Value_Author')],\n",
    "            [sg.Text('Enter Cost : '), sg.InputText(key = 'Value_Cost')],\n",
    "            [sg.Text('Enter Page : '), sg.InputText(key = 'Value_Page')],\n",
    "            [sg.Submit(key = 'Submit'), sg.Cancel()]\n",
    "            ]\n",
    "layoutUpdate = [[sg.Text('Book information to update')],\n",
    "            [sg.Text('Enter Name : '), sg.InputText(key = 'Value_Name')],\n",
    "            [sg.Text('Enter Author : '), sg.InputText(key = 'Value_Author')],\n",
    "            [sg.Text('Enter Cost : '), sg.InputText(key = 'Value_Cost')],\n",
    "            [sg.Text('Enter Page : '), sg.InputText(key = 'Value_Page')],\n",
    "            [sg.Submit(key = 'Submit'), sg.Cancel()]\n",
    "            ]\n",
    "layoutFind = [[sg.Text('Book information to find')],\n",
    "            [sg.Text('Enter Name : '), sg.InputText(key = 'Value_Name')],\n",
    "            [sg.Text('Enter Author : '), sg.InputText(key = 'Value_Author')],\n",
    "            [sg.Text('Enter Cost : '), sg.InputText(key = 'Value_Cost')],\n",
    "            [sg.Text('Enter Page : '), sg.InputText(key = 'Value_Page')],\n",
    "            [sg.Submit(key = 'Submit'), sg.Cancel()]\n",
    "            ]\n",
    "layoutDelete = [[sg.Text('Book information to Delete')],\n",
    "            [sg.Text('Enter Name : '), sg.InputText(key = 'Value_Name')],\n",
    "            [sg.Text('Enter Author : '), sg.InputText(key = 'Value_Author')],\n",
    "            [sg.Text('Enter Cost : '), sg.InputText(key = 'Value_Cost')],\n",
    "            [sg.Text('Enter Page : '), sg.InputText(key = 'Value_Page')],\n",
    "            [sg.Submit(key = 'Submit'), sg.Cancel()]\n",
    "            ]\n"
   ]
  },
  {
   "cell_type": "code",
   "execution_count": null,
   "id": "1b72321c",
   "metadata": {},
   "outputs": [],
   "source": [
    "window = sg.Window(\"Book Store\", layout)\n",
    "while True:\n",
    "    event, values = window.read()\n",
    "    if event == \"ADD\" :\n",
    "        window = sg.Window(\"Book Store\", layoutadd)\n",
    "        event=window.read()\n",
    "        window.close()  \n",
    "\n",
    "\n",
    "    if event == \"FIND\" :\n",
    "        window = sg.Window(\"Book Store\", layoutFind)\n",
    "        event=window.read()\n",
    "        window.close()\n",
    "    if event == \"UPDATE\" :\n",
    "        window = sg.Window(\"Book Store\", layoutUpdate)\n",
    "        event=window.read()\n",
    "        window.close()\n",
    "\n",
    "    if event == \"DELETE\" :\n",
    "        window = sg.Window(\"Book Store\", layoutDelete)\n",
    "        event=window.read()\n",
    "        window.close()\n",
    "\n",
    "    if event == \"Enter Page\" :\n",
    "        window = sg.Window(\"Book Store\", layout)\n",
    "        event=window.read()\n",
    "        window.close()\n",
    "    if event == 'Submit':\n",
    "        insertdb(values[Value_Name],\n",
    "                 values[Value_Author],\n",
    "                 values[Value_Cost],\n",
    "                 values[Value_Page]\n",
    "                )\n",
    "    if event == \"EXIT\" or event == sg.WIN_CLOSED:\n",
    "        break\n",
    "\n",
    "\n"
   ]
  },
  {
   "cell_type": "code",
   "execution_count": null,
   "id": "319f86f3",
   "metadata": {},
   "outputs": [],
   "source": [
    "window.close()"
   ]
  },
  {
   "cell_type": "code",
   "execution_count": null,
   "id": "fb0186bc",
   "metadata": {},
   "outputs": [],
   "source": []
  },
  {
   "cell_type": "code",
   "execution_count": null,
   "id": "e761922f",
   "metadata": {},
   "outputs": [],
   "source": []
  },
  {
   "cell_type": "code",
   "execution_count": null,
   "id": "c9ba5741",
   "metadata": {},
   "outputs": [],
   "source": []
  },
  {
   "cell_type": "code",
   "execution_count": null,
   "id": "d5d2838a",
   "metadata": {},
   "outputs": [],
   "source": []
  },
  {
   "cell_type": "code",
   "execution_count": null,
   "id": "42671567",
   "metadata": {},
   "outputs": [],
   "source": []
  },
  {
   "cell_type": "code",
   "execution_count": null,
   "id": "ec276015",
   "metadata": {},
   "outputs": [],
   "source": [
    "\n",
    "\n"
   ]
  },
  {
   "cell_type": "code",
   "execution_count": null,
   "id": "b7347e36",
   "metadata": {},
   "outputs": [],
   "source": [
    "\n",
    "window = sg.Window(\"Book Store\", layout)\n",
    "event=window.read()"
   ]
  },
  {
   "cell_type": "code",
   "execution_count": null,
   "id": "32a876f0",
   "metadata": {},
   "outputs": [],
   "source": []
  },
  {
   "cell_type": "code",
   "execution_count": null,
   "id": "cf28345f",
   "metadata": {},
   "outputs": [],
   "source": [
    "connection.close()"
   ]
  },
  {
   "cell_type": "code",
   "execution_count": null,
   "id": "bde6e9c3",
   "metadata": {},
   "outputs": [],
   "source": [
    "window.close()"
   ]
  },
  {
   "cell_type": "code",
   "execution_count": null,
   "id": "793a3946",
   "metadata": {},
   "outputs": [],
   "source": []
  },
  {
   "cell_type": "markdown",
   "id": "50974658",
   "metadata": {},
   "source": [
    "\n",
    "import PySimpleGUI as sg\n",
    "\n",
    "layout = [\n",
    "    [sg.Text('Name1', size=(15, 1), background_color=\"white\" ), sg.InputText()],\n",
    "    [sg.Text('Name2', size=(15, 1), background_color=\"white\" ), sg.InputText()],\n",
    "    [sg.Text('Name3', size=(15, 1), background_color=\"white\" ), sg.InputText()],\n",
    "\n",
    "    [sg.Submit(), sg.Cancel()]\n",
    "]\n",
    "\n",
    "window = sg.Window('Test', layout, background_color=\"white\")\n",
    "event, values = window.Read()\n",
    "window.Close()\n",
    "\n",
    "if event == 'Submit':\n",
    "    # create before next GUI because I want to use the same name for variable `values`\n",
    "    all_values = values.values() # values from dictionary\n",
    "    text = \"\\n\".join(all_values) # put values in separated lines\n",
    "\n",
    "    layout = [\n",
    "        [sg.Text('Filename', size=(15, 1), background_color=\"white\" ), sg.InputText()],\n",
    "\n",
    "        [sg.Submit(), sg.Cancel()]\n",
    "    ]\n",
    "\n",
    "    window = sg.Window('Test', layout, background_color=\"white\")\n",
    "    event, values = window.Read()\n",
    "    window.Close()\n"
   ]
  },
  {
   "cell_type": "markdown",
   "id": "33b0cfaf",
   "metadata": {},
   "source": [
    "def open_window():\n",
    "    layout = [[sg.Text(\"New Window\", key=\"new\")]]\n",
    "    window = sg.Window(\"Second Window\", layout, modal=True)\n",
    "    choice = None\n",
    "    while True:\n",
    "        event, values = window.read()\n",
    "        if event == \"Exit\" or event == sg.WIN_CLOSED:\n",
    "            break\n",
    "        \n",
    "    window.close()\n",
    "def main():\n",
    "    layout = [[sg.Button(\"Open Window\", key=\"open\")]]\n",
    "    window = sg.Window(\"Main Window\", layout)\n",
    "    while True:\n",
    "        event, values = window.read()\n",
    "        if event == \"\"\n",
    "        if event == \"EXIT\" or event == sg.WIN_CLOSED:\n",
    "            break\n",
    "        if event == \"open\":\n",
    "            open_window()\n",
    "        \n",
    "    window.close()\n",
    "if __name__ == \"__main__\":\n",
    "    main()"
   ]
  }
 ],
 "metadata": {
  "kernelspec": {
   "display_name": "Python 3 (ipykernel)",
   "language": "python",
   "name": "python3"
  },
  "language_info": {
   "codemirror_mode": {
    "name": "ipython",
    "version": 3
   },
   "file_extension": ".py",
   "mimetype": "text/x-python",
   "name": "python",
   "nbconvert_exporter": "python",
   "pygments_lexer": "ipython3",
   "version": "3.9.7"
  }
 },
 "nbformat": 4,
 "nbformat_minor": 5
}
